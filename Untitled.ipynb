{
 "cells": [
  {
   "cell_type": "code",
   "execution_count": 97,
   "metadata": {},
   "outputs": [
    {
     "name": "stderr",
     "output_type": "stream",
     "text": [
      "┌ Info: Precompiling CSV [336ed68f-0bac-5ca0-87d4-7b16caf5d00b]\n",
      "└ @ Base loading.jl:1186\n"
     ]
    }
   ],
   "source": [
    "using SparseArrays\n",
    "using HDF5\n",
    "using MultivariateStats\n",
    "using DataFrames\n",
    "using CSV"
   ]
  },
  {
   "cell_type": "code",
   "execution_count": 98,
   "metadata": {},
   "outputs": [
    {
     "data": {
      "text/plain": [
       "\"test_tmp/output_julia/\""
      ]
     },
     "execution_count": 98,
     "metadata": {},
     "output_type": "execute_result"
    }
   ],
   "source": [
    "dataset_location = \"test_tmp/dataset.h5\"\n",
    "output_folder = \"test_tmp/output_julia/\""
   ]
  },
  {
   "cell_type": "code",
   "execution_count": 60,
   "metadata": {},
   "outputs": [
    {
     "data": {
      "text/plain": [
       "Dict{String,Any} with 6 entries:\n",
       "  \"colnames\" => [\"G1\", \"G2\", \"G3\", \"G4\", \"G5\", \"G6\", \"G7\", \"G8\", \"G9\", \"G10\"  ……\n",
       "  \"rownames\" => [\"C1\", \"C2\", \"C3\", \"C4\", \"C5\", \"C6\", \"C7\", \"C8\", \"C9\", \"C10\"  ……\n",
       "  \"x\"        => [8.25267, 7.34873, 8.99435, 3.0, 2.32193, 5.20945, 7.92481, 5.7…\n",
       "  \"dims\"     => Int32[100, 100]\n",
       "  \"p\"        => Int32[0, 78, 158, 249, 331, 415, 495, 590, 675, 761  …  7981, 8…\n",
       "  \"i\"        => Int32[0, 1, 2, 3, 4, 7, 8, 9, 10, 11  …  89, 90, 91, 92, 93, 94…"
      ]
     },
     "execution_count": 60,
     "metadata": {},
     "output_type": "execute_result"
    }
   ],
   "source": [
    "expression_h5 = h5read(dataset_location, \"data/expression\")"
   ]
  },
  {
   "cell_type": "code",
   "execution_count": 84,
   "metadata": {},
   "outputs": [
    {
     "data": {
      "text/plain": [
       "100-element Array{String,1}:\n",
       " \"C1\"  \n",
       " \"C2\"  \n",
       " \"C3\"  \n",
       " \"C4\"  \n",
       " \"C5\"  \n",
       " \"C6\"  \n",
       " \"C7\"  \n",
       " \"C8\"  \n",
       " \"C9\"  \n",
       " \"C10\" \n",
       " \"C11\" \n",
       " \"C12\" \n",
       " \"C13\" \n",
       " ⋮     \n",
       " \"C89\" \n",
       " \"C90\" \n",
       " \"C91\" \n",
       " \"C92\" \n",
       " \"C93\" \n",
       " \"C94\" \n",
       " \"C95\" \n",
       " \"C96\" \n",
       " \"C97\" \n",
       " \"C98\" \n",
       " \"C99\" \n",
       " \"C100\""
      ]
     },
     "execution_count": 84,
     "metadata": {},
     "output_type": "execute_result"
    }
   ],
   "source": [
    "p = expression_h5[\"p\"] .+ 1\n",
    "i = expression_h5[\"i\"] .+ 1\n",
    "expression = SparseMatrixCSC(\n",
    "    expression_h5[\"dims\"][1],\n",
    "    expression_h5[\"dims\"][2],\n",
    "    p,\n",
    "    i,\n",
    "    expression_h5[\"x\"]\n",
    ")\n",
    "\n",
    "cell_ids = expression_h5[\"rownames\"]"
   ]
  },
  {
   "cell_type": "code",
   "execution_count": 72,
   "metadata": {},
   "outputs": [
    {
     "data": {
      "text/plain": [
       "Kernel PCA(indim = 100, outdim = 1)"
      ]
     },
     "execution_count": 72,
     "metadata": {},
     "output_type": "execute_result"
    }
   ],
   "source": [
    "pca = fit(KernelPCA, expression; maxoutdim=1)"
   ]
  },
  {
   "cell_type": "code",
   "execution_count": 75,
   "metadata": {},
   "outputs": [
    {
     "data": {
      "text/plain": [
       "1×100 SparseMatrixCSC{Float64,Int64} with 100 stored entries:\n",
       "  [1  ,   1]  =  -25.2646\n",
       "  [1  ,   2]  =  17.822\n",
       "  [1  ,   3]  =  -0.44162\n",
       "  [1  ,   4]  =  3.24282\n",
       "  [1  ,   5]  =  -19.266\n",
       "  [1  ,   6]  =  -5.12422\n",
       "  [1  ,   7]  =  4.39215\n",
       "  [1  ,   8]  =  -18.196\n",
       "  [1  ,   9]  =  31.2534\n",
       "  [1  ,  10]  =  24.1922\n",
       "  [1  ,  11]  =  -20.585\n",
       "  [1  ,  12]  =  10.8149\n",
       "  ⋮\n",
       "  [1  ,  89]  =  -9.13961\n",
       "  [1  ,  90]  =  13.2882\n",
       "  [1  ,  91]  =  -7.02063\n",
       "  [1  ,  92]  =  21.7093\n",
       "  [1  ,  93]  =  -0.419471\n",
       "  [1  ,  94]  =  18.3948\n",
       "  [1  ,  95]  =  -23.6756\n",
       "  [1  ,  96]  =  3.51294\n",
       "  [1  ,  97]  =  -7.41576\n",
       "  [1  ,  98]  =  5.40873\n",
       "  [1  ,  99]  =  3.39836\n",
       "  [1  , 100]  =  -13.1923"
      ]
     },
     "execution_count": 75,
     "metadata": {},
     "output_type": "execute_result"
    }
   ],
   "source": [
    "pca_transformed = transform(pca, expression)"
   ]
  },
  {
   "cell_type": "code",
   "execution_count": 116,
   "metadata": {},
   "outputs": [
    {
     "data": {
      "text/plain": [
       "100-element SparseVector{Float64,Int64} with 100 stored entries:\n",
       "  [1  ]  =  0.0337053\n",
       "  [2  ]  =  0.770362\n",
       "  [3  ]  =  0.458106\n",
       "  [4  ]  =  0.5211\n",
       "  [5  ]  =  0.136263\n",
       "  [6  ]  =  0.378047\n",
       "  [7  ]  =  0.54075\n",
       "  [8  ]  =  0.154557\n",
       "  [9  ]  =  1.0\n",
       "  [10 ]  =  0.879274\n",
       "         ⋮\n",
       "  [90 ]  =  0.692847\n",
       "  [91 ]  =  0.345624\n",
       "  [92 ]  =  0.836824\n",
       "  [93 ]  =  0.458485\n",
       "  [94 ]  =  0.780156\n",
       "  [95 ]  =  0.0608718\n",
       "  [96 ]  =  0.525718\n",
       "  [97 ]  =  0.338869\n",
       "  [98 ]  =  0.55813\n",
       "  [99 ]  =  0.523759\n",
       "  [100]  =  0.240107"
      ]
     },
     "execution_count": 116,
     "metadata": {},
     "output_type": "execute_result"
    }
   ],
   "source": [
    "time = pca_transformed[1, :]\n",
    "time = (time .- minimum(time)) ./ (maximum(time) - minimum(time))"
   ]
  },
  {
   "cell_type": "code",
   "execution_count": 117,
   "metadata": {},
   "outputs": [
    {
     "data": {
      "text/html": [
       "<table class=\"data-frame\"><thead><tr><th></th><th>from</th><th>to</th><th>length</th><th>directed</th></tr><tr><th></th><th>String</th><th>String</th><th>Int64</th><th>Bool</th></tr></thead><tbody><p>1 rows × 4 columns</p><tr><th>1</th><td>A</td><td>B</td><td>1</td><td>true</td></tr></tbody></table>"
      ],
      "text/latex": [
       "\\begin{tabular}{r|cccc}\n",
       "\t& from & to & length & directed\\\\\n",
       "\t\\hline\n",
       "\t& String & String & Int64 & Bool\\\\\n",
       "\t\\hline\n",
       "\t1 & A & B & 1 & true \\\\\n",
       "\\end{tabular}\n"
      ],
      "text/plain": [
       "1×4 DataFrame\n",
       "│ Row │ from   │ to     │ length │ directed │\n",
       "│     │ \u001b[90mString\u001b[39m │ \u001b[90mString\u001b[39m │ \u001b[90mInt64\u001b[39m  │ \u001b[90mBool\u001b[39m     │\n",
       "├─────┼────────┼────────┼────────┼──────────┤\n",
       "│ 1   │ A      │ B      │ 1      │ true     │"
      ]
     },
     "execution_count": 117,
     "metadata": {},
     "output_type": "execute_result"
    }
   ],
   "source": [
    "milestone_network = DataFrame(\n",
    "    from = \"A\",\n",
    "    to = \"B\",\n",
    "    length = 1,\n",
    "    directed = true\n",
    ")"
   ]
  },
  {
   "cell_type": "code",
   "execution_count": 120,
   "metadata": {},
   "outputs": [
    {
     "data": {
      "text/html": [
       "<table class=\"data-frame\"><thead><tr><th></th><th>from</th><th>to</th><th>cell_id</th><th>percentage</th></tr><tr><th></th><th>String</th><th>String</th><th>String</th><th>Float64</th></tr></thead><tbody><p>100 rows × 4 columns</p><tr><th>1</th><td>A</td><td>B</td><td>C1</td><td>0.0337053</td></tr><tr><th>2</th><td>A</td><td>B</td><td>C2</td><td>0.770362</td></tr><tr><th>3</th><td>A</td><td>B</td><td>C3</td><td>0.458106</td></tr><tr><th>4</th><td>A</td><td>B</td><td>C4</td><td>0.5211</td></tr><tr><th>5</th><td>A</td><td>B</td><td>C5</td><td>0.136263</td></tr><tr><th>6</th><td>A</td><td>B</td><td>C6</td><td>0.378047</td></tr><tr><th>7</th><td>A</td><td>B</td><td>C7</td><td>0.54075</td></tr><tr><th>8</th><td>A</td><td>B</td><td>C8</td><td>0.154557</td></tr><tr><th>9</th><td>A</td><td>B</td><td>C9</td><td>1.0</td></tr><tr><th>10</th><td>A</td><td>B</td><td>C10</td><td>0.879274</td></tr><tr><th>11</th><td>A</td><td>B</td><td>C11</td><td>0.113712</td></tr><tr><th>12</th><td>A</td><td>B</td><td>C12</td><td>0.65056</td></tr><tr><th>13</th><td>A</td><td>B</td><td>C13</td><td>0.914054</td></tr><tr><th>14</th><td>A</td><td>B</td><td>C14</td><td>0.622376</td></tr><tr><th>15</th><td>A</td><td>B</td><td>C15</td><td>0.502394</td></tr><tr><th>16</th><td>A</td><td>B</td><td>C16</td><td>0.193218</td></tr><tr><th>17</th><td>A</td><td>B</td><td>C17</td><td>0.0695158</td></tr><tr><th>18</th><td>A</td><td>B</td><td>C18</td><td>0.347878</td></tr><tr><th>19</th><td>A</td><td>B</td><td>C19</td><td>0.353546</td></tr><tr><th>20</th><td>A</td><td>B</td><td>C20</td><td>0.549649</td></tr><tr><th>21</th><td>A</td><td>B</td><td>C21</td><td>0.0</td></tr><tr><th>22</th><td>A</td><td>B</td><td>C22</td><td>0.469852</td></tr><tr><th>23</th><td>A</td><td>B</td><td>C23</td><td>0.543938</td></tr><tr><th>24</th><td>A</td><td>B</td><td>C24</td><td>0.574118</td></tr><tr><th>25</th><td>A</td><td>B</td><td>C25</td><td>0.391009</td></tr><tr><th>26</th><td>A</td><td>B</td><td>C26</td><td>0.621642</td></tr><tr><th>27</th><td>A</td><td>B</td><td>C27</td><td>0.508887</td></tr><tr><th>28</th><td>A</td><td>B</td><td>C28</td><td>0.605148</td></tr><tr><th>29</th><td>A</td><td>B</td><td>C29</td><td>0.210346</td></tr><tr><th>30</th><td>A</td><td>B</td><td>C30</td><td>0.427487</td></tr><tr><th>&vellip;</th><td>&vellip;</td><td>&vellip;</td><td>&vellip;</td><td>&vellip;</td></tr></tbody></table>"
      ],
      "text/latex": [
       "\\begin{tabular}{r|cccc}\n",
       "\t& from & to & cell\\_id & percentage\\\\\n",
       "\t\\hline\n",
       "\t& String & String & String & Float64\\\\\n",
       "\t\\hline\n",
       "\t1 & A & B & C1 & 0.0337053 \\\\\n",
       "\t2 & A & B & C2 & 0.770362 \\\\\n",
       "\t3 & A & B & C3 & 0.458106 \\\\\n",
       "\t4 & A & B & C4 & 0.5211 \\\\\n",
       "\t5 & A & B & C5 & 0.136263 \\\\\n",
       "\t6 & A & B & C6 & 0.378047 \\\\\n",
       "\t7 & A & B & C7 & 0.54075 \\\\\n",
       "\t8 & A & B & C8 & 0.154557 \\\\\n",
       "\t9 & A & B & C9 & 1.0 \\\\\n",
       "\t10 & A & B & C10 & 0.879274 \\\\\n",
       "\t11 & A & B & C11 & 0.113712 \\\\\n",
       "\t12 & A & B & C12 & 0.65056 \\\\\n",
       "\t13 & A & B & C13 & 0.914054 \\\\\n",
       "\t14 & A & B & C14 & 0.622376 \\\\\n",
       "\t15 & A & B & C15 & 0.502394 \\\\\n",
       "\t16 & A & B & C16 & 0.193218 \\\\\n",
       "\t17 & A & B & C17 & 0.0695158 \\\\\n",
       "\t18 & A & B & C18 & 0.347878 \\\\\n",
       "\t19 & A & B & C19 & 0.353546 \\\\\n",
       "\t20 & A & B & C20 & 0.549649 \\\\\n",
       "\t21 & A & B & C21 & 0.0 \\\\\n",
       "\t22 & A & B & C22 & 0.469852 \\\\\n",
       "\t23 & A & B & C23 & 0.543938 \\\\\n",
       "\t24 & A & B & C24 & 0.574118 \\\\\n",
       "\t25 & A & B & C25 & 0.391009 \\\\\n",
       "\t26 & A & B & C26 & 0.621642 \\\\\n",
       "\t27 & A & B & C27 & 0.508887 \\\\\n",
       "\t28 & A & B & C28 & 0.605148 \\\\\n",
       "\t29 & A & B & C29 & 0.210346 \\\\\n",
       "\t30 & A & B & C30 & 0.427487 \\\\\n",
       "\t$\\dots$ & $\\dots$ & $\\dots$ & $\\dots$ & $\\dots$ \\\\\n",
       "\\end{tabular}\n"
      ],
      "text/plain": [
       "100×4 DataFrame\n",
       "│ Row │ from   │ to     │ cell_id │ percentage │\n",
       "│     │ \u001b[90mString\u001b[39m │ \u001b[90mString\u001b[39m │ \u001b[90mString\u001b[39m  │ \u001b[90mFloat64\u001b[39m    │\n",
       "├─────┼────────┼────────┼─────────┼────────────┤\n",
       "│ 1   │ A      │ B      │ C1      │ 0.0337053  │\n",
       "│ 2   │ A      │ B      │ C2      │ 0.770362   │\n",
       "│ 3   │ A      │ B      │ C3      │ 0.458106   │\n",
       "│ 4   │ A      │ B      │ C4      │ 0.5211     │\n",
       "│ 5   │ A      │ B      │ C5      │ 0.136263   │\n",
       "│ 6   │ A      │ B      │ C6      │ 0.378047   │\n",
       "│ 7   │ A      │ B      │ C7      │ 0.54075    │\n",
       "│ 8   │ A      │ B      │ C8      │ 0.154557   │\n",
       "│ 9   │ A      │ B      │ C9      │ 1.0        │\n",
       "│ 10  │ A      │ B      │ C10     │ 0.879274   │\n",
       "⋮\n",
       "│ 90  │ A      │ B      │ C90     │ 0.692847   │\n",
       "│ 91  │ A      │ B      │ C91     │ 0.345624   │\n",
       "│ 92  │ A      │ B      │ C92     │ 0.836824   │\n",
       "│ 93  │ A      │ B      │ C93     │ 0.458485   │\n",
       "│ 94  │ A      │ B      │ C94     │ 0.780156   │\n",
       "│ 95  │ A      │ B      │ C95     │ 0.0608718  │\n",
       "│ 96  │ A      │ B      │ C96     │ 0.525718   │\n",
       "│ 97  │ A      │ B      │ C97     │ 0.338869   │\n",
       "│ 98  │ A      │ B      │ C98     │ 0.55813    │\n",
       "│ 99  │ A      │ B      │ C99     │ 0.523759   │\n",
       "│ 100 │ A      │ B      │ C100    │ 0.240107   │"
      ]
     },
     "execution_count": 120,
     "metadata": {},
     "output_type": "execute_result"
    }
   ],
   "source": [
    "progressions = DataFrame(\n",
    "    from = \"A\",\n",
    "    to = \"B\",\n",
    "    cell_id = cell_ids,\n",
    "    percentage = time\n",
    ")"
   ]
  },
  {
   "cell_type": "code",
   "execution_count": 121,
   "metadata": {},
   "outputs": [
    {
     "data": {
      "text/plain": [
       "\"test_tmp/output_julia/milestone_network.csv\""
      ]
     },
     "execution_count": 121,
     "metadata": {},
     "output_type": "execute_result"
    }
   ],
   "source": [
    "CSV.write(output_folder * \"progressions.csv\", progressions)\n",
    "CSV.write(output_folder * \"milestone_network.csv\", milestone_network)"
   ]
  }
 ],
 "metadata": {
  "kernelspec": {
   "display_name": "Julia 1.1.1",
   "language": "julia",
   "name": "julia-1.1"
  },
  "language_info": {
   "file_extension": ".jl",
   "mimetype": "application/julia",
   "name": "julia",
   "version": "1.1.1"
  }
 },
 "nbformat": 4,
 "nbformat_minor": 2
}
